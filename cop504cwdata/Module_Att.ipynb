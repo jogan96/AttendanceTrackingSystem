{
 "cells": [
  {
   "cell_type": "markdown",
   "id": "5702d470",
   "metadata": {},
   "source": [
    "# Module Attendance"
   ]
  },
  {
   "cell_type": "markdown",
   "id": "7b3a404c",
   "metadata": {},
   "source": [
    "This module attendance program displays the weekly attendance of a module the user or tutor chooses to view. It shows a dataframe of each module session per week by performing the following functions:\n",
    "- reads module attendance and attendance details from the database\n",
    "- merges the module attendance and attendance details into a dataframe\n",
    "- calculates the attendance percentage of each module session\n",
    "- formats the dataframe based on a condition"
   ]
  },
  {
   "cell_type": "markdown",
   "id": "592c487d",
   "metadata": {},
   "source": [
    "## Imports"
   ]
  },
  {
   "cell_type": "code",
   "execution_count": 21,
   "id": "9d266d38",
   "metadata": {},
   "outputs": [],
   "source": [
    "import math\n",
    "import pandas as pd\n",
    "import numpy as np\n",
    "import matplotlib.pyplot as plt\n",
    "import sqlite3"
   ]
  },
  {
   "cell_type": "markdown",
   "id": "47c665cd",
   "metadata": {},
   "source": [
    "## Functions"
   ]
  },
  {
   "cell_type": "markdown",
   "id": "d0cafb82",
   "metadata": {},
   "source": [
    "### Extracting Information from Database"
   ]
  },
  {
   "cell_type": "code",
   "execution_count": 22,
   "id": "8bb1c7e6",
   "metadata": {},
   "outputs": [],
   "source": [
    "def get_session_df_from_db(dfsession, week_no):\n",
    "    '''\n",
    "    extracting specific columns of sessions table by week from the database\n",
    "    input:\n",
    "        dfsession:the session table name\n",
    "        week_no: the week number to filter table by, string type\n",
    "    return: \n",
    "        dfSess: the filtered attendance details (sessions) dataframe\n",
    "    '''\n",
    "    conn = sqlite3.connect('C:\\\\Users\\\\rolli\\\\CW\\\\cop504cwdata\\\\CWDatabase.db')\n",
    "    \n",
    "    dfSess=pd.read_sql('''SELECT A.start_time, A.room, A.type \\\n",
    "                           FROM %s as A WHERE week == '%s';'''\\\n",
    "                           %(dfsession, week_no),con=conn)\n",
    "    dfSess.index.names=[\"id\"]\n",
    "    conn.close()\n",
    "    \n",
    "    return dfSess\n",
    "\n",
    "def session_per_week_df_from_db(dfsessions, dfMod, week_no):\n",
    "    '''\n",
    "    extracting the joined sessions and module attendance tables from database\n",
    "    output:\n",
    "        returns a dataframe of each students attendance score across the module sessions per week\n",
    "    '''\n",
    "    conn = sqlite3.connect('C:\\\\Users\\\\rolli\\\\CW\\\\cop504cwdata\\\\CWDatabase.db')\n",
    "    \n",
    "    dfMod1=pd.read_sql('''SELECT A.start_time, A.room, A.type, B.*\\\n",
    "                           FROM %s A JOIN %s B ON A.sessions_id=B.sessions_id\\\n",
    "                           WHERE week == '%s';'''%(dfsessions, dfMod, week_no),con=conn)\n",
    "    dfMod1=dfMod1.reset_index()\n",
    "    conn.close()\n",
    "    \n",
    "    return dfMod1\n"
   ]
  },
  {
   "cell_type": "markdown",
   "id": "052b508b",
   "metadata": {},
   "source": [
    "### Calculating and Merging Dataframes"
   ]
  },
  {
   "cell_type": "code",
   "execution_count": 23,
   "id": "c3237bc0",
   "metadata": {},
   "outputs": [],
   "source": [
    "def module_attendance_percentage(attendance_score):\n",
    "    '''\n",
    "    calculating students attendance percentage for each module session\n",
    "    '''\n",
    "    score_1=attendance_score.iloc[:,5:].count(axis=1)\n",
    "    score_2=attendance_score.iloc[:,5:].sum(axis=1)\n",
    "    score_percentage=(score_2/score_1)*100\n",
    "    dfS=score_percentage.to_frame()\n",
    "    dfS.columns=[\"Attendance%\"]\n",
    "    dfS.index.names=[\"id\"]\n",
    "    \n",
    "    return dfS\n",
    "\n",
    "def module_attendance_record(attendance_df, dfsess):\n",
    "    '''\n",
    "    merges attendance percentage dataframe to attendance details(sessions) dataframe\n",
    "    output:\n",
    "        returns weekly module attendance, dataframe \n",
    "    '''\n",
    "    reg = pd.merge(attendance_df,dfsess, how=\"inner\", on=\"id\")\n",
    "    reg = reg.rename(columns = {\"start_time\":\"time\"})\n",
    "    \n",
    "    return reg\n",
    "    "
   ]
  },
  {
   "cell_type": "markdown",
   "id": "072eae90",
   "metadata": {},
   "source": [
    "### Output"
   ]
  },
  {
   "cell_type": "code",
   "execution_count": 24,
   "id": "27ccc3d6",
   "metadata": {},
   "outputs": [],
   "source": [
    "def acolor_code(value):\n",
    "    \"\"\"\n",
    "    Setting background colours \n",
    "    of table cells \n",
    "    value is a cell value. \n",
    "    \"\"\"\n",
    "    \n",
    "    try:\n",
    "        if value is None or math.isnan(value):\n",
    "            return None\n",
    "        if value < 40:\n",
    "            colour = 'red'\n",
    "        elif value < 70:\n",
    "            colour = 'yellow'\n",
    "        else:\n",
    "            colour = 'green'\n",
    "        \n",
    "    except:\n",
    "        print('value:', value)\n",
    "        assert False\n",
    "        \n",
    "    styler=f'background-color: {colour}'\n",
    "    return styler\n",
    "\n",
    "\n",
    "def format_output(dfData):\n",
    "    \"\"\"\n",
    "    applying formatting function to the dataframe.\n",
    "    \"\"\"\n",
    "    styledOutput=dfData.style.applymap(acolor_code, subset=['Attendance%'])\\\n",
    "                              .format(precision=1)\n",
    "    return styledOutput"
   ]
  },
  {
   "cell_type": "markdown",
   "id": "de38a660",
   "metadata": {},
   "source": [
    "## Main Code"
   ]
  },
  {
   "cell_type": "code",
   "execution_count": 25,
   "id": "4e49516c",
   "metadata": {
    "scrolled": true
   },
   "outputs": [],
   "source": [
    "def module_attendance(sessions,module, week):\n",
    "    '''\n",
    "    main function of the module attendance code \n",
    "    '''\n",
    "    sessions = module+\"_Sessions\"\n",
    "    weekly_mod_sessions=session_per_week_df_from_db(sessions, module, week)\n",
    "    weekly_mod_sessions1=module_attendance_percentage(weekly_mod_sessions)\n",
    "    sessions=get_session_df_from_db(sessions, week)\n",
    "    mod_att_record1=module_attendance_record(sessions,weekly_mod_sessions1)\n",
    "    format_input=format_output(mod_att_record1)\n",
    "\n",
    "    return format_input"
   ]
  },
  {
   "cell_type": "markdown",
   "id": "796cdd22",
   "metadata": {},
   "source": [
    "## Test"
   ]
  },
  {
   "cell_type": "code",
   "execution_count": 26,
   "id": "2ceec1dd",
   "metadata": {
    "scrolled": true
   },
   "outputs": [
    {
     "data": {
      "text/html": [
       "<div>\n",
       "<style scoped>\n",
       "    .dataframe tbody tr th:only-of-type {\n",
       "        vertical-align: middle;\n",
       "    }\n",
       "\n",
       "    .dataframe tbody tr th {\n",
       "        vertical-align: top;\n",
       "    }\n",
       "\n",
       "    .dataframe thead th {\n",
       "        text-align: right;\n",
       "    }\n",
       "</style>\n",
       "<table border=\"1\" class=\"dataframe\">\n",
       "  <thead>\n",
       "    <tr style=\"text-align: right;\">\n",
       "      <th></th>\n",
       "      <th>index</th>\n",
       "      <th>start_time</th>\n",
       "      <th>room</th>\n",
       "      <th>type</th>\n",
       "      <th>sessions_id</th>\n",
       "      <th>0</th>\n",
       "      <th>1</th>\n",
       "      <th>2</th>\n",
       "      <th>3</th>\n",
       "      <th>4</th>\n",
       "      <th>...</th>\n",
       "      <th>233</th>\n",
       "      <th>234</th>\n",
       "      <th>235</th>\n",
       "      <th>236</th>\n",
       "      <th>237</th>\n",
       "      <th>238</th>\n",
       "      <th>239</th>\n",
       "      <th>240</th>\n",
       "      <th>241</th>\n",
       "      <th>242</th>\n",
       "    </tr>\n",
       "  </thead>\n",
       "  <tbody>\n",
       "    <tr>\n",
       "      <th>0</th>\n",
       "      <td>0</td>\n",
       "      <td>09:00</td>\n",
       "      <td>U020</td>\n",
       "      <td>Lecture</td>\n",
       "      <td>0</td>\n",
       "      <td>1</td>\n",
       "      <td>1</td>\n",
       "      <td>1</td>\n",
       "      <td>None</td>\n",
       "      <td>1</td>\n",
       "      <td>...</td>\n",
       "      <td>1.0</td>\n",
       "      <td>1</td>\n",
       "      <td>1</td>\n",
       "      <td>1</td>\n",
       "      <td>1</td>\n",
       "      <td>0</td>\n",
       "      <td>1</td>\n",
       "      <td>1</td>\n",
       "      <td>1</td>\n",
       "      <td>0</td>\n",
       "    </tr>\n",
       "    <tr>\n",
       "      <th>1</th>\n",
       "      <td>1</td>\n",
       "      <td>10:00</td>\n",
       "      <td>SMB014</td>\n",
       "      <td>Lecture</td>\n",
       "      <td>1</td>\n",
       "      <td>1</td>\n",
       "      <td>1</td>\n",
       "      <td>1</td>\n",
       "      <td>None</td>\n",
       "      <td>0</td>\n",
       "      <td>...</td>\n",
       "      <td>NaN</td>\n",
       "      <td>1</td>\n",
       "      <td>1</td>\n",
       "      <td>1</td>\n",
       "      <td>0</td>\n",
       "      <td>0</td>\n",
       "      <td>0</td>\n",
       "      <td>1</td>\n",
       "      <td>1</td>\n",
       "      <td>0</td>\n",
       "    </tr>\n",
       "  </tbody>\n",
       "</table>\n",
       "<p>2 rows × 204 columns</p>\n",
       "</div>"
      ],
      "text/plain": [
       "   index start_time    room     type  sessions_id  0  1  2     3  4  ...  233  \\\n",
       "0      0     09:00     U020  Lecture            0  1  1  1  None  1  ...  1.0   \n",
       "1      1     10:00   SMB014  Lecture            1  1  1  1  None  0  ...  NaN   \n",
       "\n",
       "   234  235  236  237  238  239  240  241  242  \n",
       "0    1    1    1    1    0    1    1    1    0  \n",
       "1    1    1    1    0    0    0    1    1    0  \n",
       "\n",
       "[2 rows x 204 columns]"
      ]
     },
     "execution_count": 26,
     "metadata": {},
     "output_type": "execute_result"
    }
   ],
   "source": [
    "# weekly module attendance session\n",
    "weekly_mod_sessions=session_per_week_df_from_db('COA111_Sessions', 'COA111', '1')\n",
    "weekly_mod_sessions"
   ]
  },
  {
   "cell_type": "code",
   "execution_count": 27,
   "id": "90e60bec",
   "metadata": {
    "scrolled": true
   },
   "outputs": [
    {
     "data": {
      "text/html": [
       "<div>\n",
       "<style scoped>\n",
       "    .dataframe tbody tr th:only-of-type {\n",
       "        vertical-align: middle;\n",
       "    }\n",
       "\n",
       "    .dataframe tbody tr th {\n",
       "        vertical-align: top;\n",
       "    }\n",
       "\n",
       "    .dataframe thead th {\n",
       "        text-align: right;\n",
       "    }\n",
       "</style>\n",
       "<table border=\"1\" class=\"dataframe\">\n",
       "  <thead>\n",
       "    <tr style=\"text-align: right;\">\n",
       "      <th></th>\n",
       "      <th>Attendance%</th>\n",
       "    </tr>\n",
       "    <tr>\n",
       "      <th>id</th>\n",
       "      <th></th>\n",
       "    </tr>\n",
       "  </thead>\n",
       "  <tbody>\n",
       "    <tr>\n",
       "      <th>0</th>\n",
       "      <td>73.333333</td>\n",
       "    </tr>\n",
       "    <tr>\n",
       "      <th>1</th>\n",
       "      <td>65.625000</td>\n",
       "    </tr>\n",
       "  </tbody>\n",
       "</table>\n",
       "</div>"
      ],
      "text/plain": [
       "    Attendance%\n",
       "id             \n",
       "0     73.333333\n",
       "1     65.625000"
      ]
     },
     "execution_count": 27,
     "metadata": {},
     "output_type": "execute_result"
    }
   ],
   "source": [
    "# weekly module attendance percentage\n",
    "weekly_mod_sessions1=module_attendance_percentage(weekly_mod_sessions)\n",
    "weekly_mod_sessions1"
   ]
  },
  {
   "cell_type": "code",
   "execution_count": 28,
   "id": "b7ccac33",
   "metadata": {
    "scrolled": true
   },
   "outputs": [
    {
     "data": {
      "text/html": [
       "<div>\n",
       "<style scoped>\n",
       "    .dataframe tbody tr th:only-of-type {\n",
       "        vertical-align: middle;\n",
       "    }\n",
       "\n",
       "    .dataframe tbody tr th {\n",
       "        vertical-align: top;\n",
       "    }\n",
       "\n",
       "    .dataframe thead th {\n",
       "        text-align: right;\n",
       "    }\n",
       "</style>\n",
       "<table border=\"1\" class=\"dataframe\">\n",
       "  <thead>\n",
       "    <tr style=\"text-align: right;\">\n",
       "      <th></th>\n",
       "      <th>start_time</th>\n",
       "      <th>room</th>\n",
       "      <th>type</th>\n",
       "    </tr>\n",
       "    <tr>\n",
       "      <th>id</th>\n",
       "      <th></th>\n",
       "      <th></th>\n",
       "      <th></th>\n",
       "    </tr>\n",
       "  </thead>\n",
       "  <tbody>\n",
       "    <tr>\n",
       "      <th>0</th>\n",
       "      <td>09:00</td>\n",
       "      <td>U020</td>\n",
       "      <td>Lecture</td>\n",
       "    </tr>\n",
       "    <tr>\n",
       "      <th>1</th>\n",
       "      <td>10:00</td>\n",
       "      <td>SMB014</td>\n",
       "      <td>Lecture</td>\n",
       "    </tr>\n",
       "  </tbody>\n",
       "</table>\n",
       "</div>"
      ],
      "text/plain": [
       "   start_time    room     type\n",
       "id                            \n",
       "0      09:00     U020  Lecture\n",
       "1      10:00   SMB014  Lecture"
      ]
     },
     "execution_count": 28,
     "metadata": {},
     "output_type": "execute_result"
    }
   ],
   "source": [
    "# attendance details\n",
    "sessions=get_session_df_from_db('COA111_Sessions', '1')\n",
    "sessions"
   ]
  },
  {
   "cell_type": "code",
   "execution_count": 29,
   "id": "db3f4a2f",
   "metadata": {
    "scrolled": true
   },
   "outputs": [
    {
     "data": {
      "text/html": [
       "<div>\n",
       "<style scoped>\n",
       "    .dataframe tbody tr th:only-of-type {\n",
       "        vertical-align: middle;\n",
       "    }\n",
       "\n",
       "    .dataframe tbody tr th {\n",
       "        vertical-align: top;\n",
       "    }\n",
       "\n",
       "    .dataframe thead th {\n",
       "        text-align: right;\n",
       "    }\n",
       "</style>\n",
       "<table border=\"1\" class=\"dataframe\">\n",
       "  <thead>\n",
       "    <tr style=\"text-align: right;\">\n",
       "      <th></th>\n",
       "      <th>time</th>\n",
       "      <th>room</th>\n",
       "      <th>type</th>\n",
       "      <th>Attendance%</th>\n",
       "    </tr>\n",
       "    <tr>\n",
       "      <th>id</th>\n",
       "      <th></th>\n",
       "      <th></th>\n",
       "      <th></th>\n",
       "      <th></th>\n",
       "    </tr>\n",
       "  </thead>\n",
       "  <tbody>\n",
       "    <tr>\n",
       "      <th>0</th>\n",
       "      <td>09:00</td>\n",
       "      <td>U020</td>\n",
       "      <td>Lecture</td>\n",
       "      <td>73.333333</td>\n",
       "    </tr>\n",
       "    <tr>\n",
       "      <th>1</th>\n",
       "      <td>10:00</td>\n",
       "      <td>SMB014</td>\n",
       "      <td>Lecture</td>\n",
       "      <td>65.625000</td>\n",
       "    </tr>\n",
       "  </tbody>\n",
       "</table>\n",
       "</div>"
      ],
      "text/plain": [
       "      time    room     type  Attendance%\n",
       "id                                      \n",
       "0   09:00     U020  Lecture    73.333333\n",
       "1   10:00   SMB014  Lecture    65.625000"
      ]
     },
     "execution_count": 29,
     "metadata": {},
     "output_type": "execute_result"
    }
   ],
   "source": [
    "# weekly module attendance\n",
    "mod_att_record1=module_attendance_record(sessions,weekly_mod_sessions1)\n",
    "mod_att_record1"
   ]
  },
  {
   "cell_type": "code",
   "execution_count": 30,
   "id": "164690e7",
   "metadata": {},
   "outputs": [
    {
     "data": {
      "text/html": [
       "<style type=\"text/css\">\n",
       "#T_51aba_row0_col3 {\n",
       "  background-color: green;\n",
       "}\n",
       "#T_51aba_row1_col3 {\n",
       "  background-color: yellow;\n",
       "}\n",
       "</style>\n",
       "<table id=\"T_51aba\">\n",
       "  <thead>\n",
       "    <tr>\n",
       "      <th class=\"blank level0\" >&nbsp;</th>\n",
       "      <th id=\"T_51aba_level0_col0\" class=\"col_heading level0 col0\" >time</th>\n",
       "      <th id=\"T_51aba_level0_col1\" class=\"col_heading level0 col1\" >room</th>\n",
       "      <th id=\"T_51aba_level0_col2\" class=\"col_heading level0 col2\" >type</th>\n",
       "      <th id=\"T_51aba_level0_col3\" class=\"col_heading level0 col3\" >Attendance%</th>\n",
       "    </tr>\n",
       "    <tr>\n",
       "      <th class=\"index_name level0\" >id</th>\n",
       "      <th class=\"blank col0\" >&nbsp;</th>\n",
       "      <th class=\"blank col1\" >&nbsp;</th>\n",
       "      <th class=\"blank col2\" >&nbsp;</th>\n",
       "      <th class=\"blank col3\" >&nbsp;</th>\n",
       "    </tr>\n",
       "  </thead>\n",
       "  <tbody>\n",
       "    <tr>\n",
       "      <th id=\"T_51aba_level0_row0\" class=\"row_heading level0 row0\" >0</th>\n",
       "      <td id=\"T_51aba_row0_col0\" class=\"data row0 col0\" >09:00 </td>\n",
       "      <td id=\"T_51aba_row0_col1\" class=\"data row0 col1\" >U020</td>\n",
       "      <td id=\"T_51aba_row0_col2\" class=\"data row0 col2\" >Lecture</td>\n",
       "      <td id=\"T_51aba_row0_col3\" class=\"data row0 col3\" >73.3</td>\n",
       "    </tr>\n",
       "    <tr>\n",
       "      <th id=\"T_51aba_level0_row1\" class=\"row_heading level0 row1\" >1</th>\n",
       "      <td id=\"T_51aba_row1_col0\" class=\"data row1 col0\" >10:00 </td>\n",
       "      <td id=\"T_51aba_row1_col1\" class=\"data row1 col1\" >SMB014</td>\n",
       "      <td id=\"T_51aba_row1_col2\" class=\"data row1 col2\" >Lecture</td>\n",
       "      <td id=\"T_51aba_row1_col3\" class=\"data row1 col3\" >65.6</td>\n",
       "    </tr>\n",
       "  </tbody>\n",
       "</table>\n"
      ],
      "text/plain": [
       "<pandas.io.formats.style.Styler at 0x242a1702ec0>"
      ]
     },
     "execution_count": 30,
     "metadata": {},
     "output_type": "execute_result"
    }
   ],
   "source": [
    "# conditional formatting\n",
    "format_input=format_output(mod_att_record1)\n",
    "format_input"
   ]
  }
 ],
 "metadata": {
  "kernelspec": {
   "display_name": "Python 3 (ipykernel)",
   "language": "python",
   "name": "python3"
  },
  "language_info": {
   "codemirror_mode": {
    "name": "ipython",
    "version": 3
   },
   "file_extension": ".py",
   "mimetype": "text/x-python",
   "name": "python",
   "nbconvert_exporter": "python",
   "pygments_lexer": "ipython3",
   "version": "3.10.9"
  }
 },
 "nbformat": 4,
 "nbformat_minor": 5
}
