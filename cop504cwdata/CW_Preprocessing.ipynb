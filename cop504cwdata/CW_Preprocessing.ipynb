{
 "cells": [
  {
   "cell_type": "markdown",
   "id": "875267dc",
   "metadata": {},
   "source": [
    "# Attendance Tracking System"
   ]
  },
  {
   "cell_type": "markdown",
   "id": "e30def30",
   "metadata": {},
   "source": [
    "- Date: 23/01/2023\n",
    "- Description: Attendance Tracking System\n"
   ]
  },
  {
   "cell_type": "markdown",
   "id": "71057f28",
   "metadata": {},
   "source": [
    "## CW_Preprocessing"
   ]
  },
  {
   "cell_type": "markdown",
   "id": "76dd7fa3",
   "metadata": {},
   "source": [
    "This is a simple attendance tracking system created to check students attendance for all module sessions of a department in a current semester. This program:\n",
    "- reads the module attendance csv files from a folder\n",
    "- parses the column headers\n",
    "- cleans the original data\n",
    "- writes the attendance dataframes into an sqlite3"
   ]
  },
  {
   "cell_type": "markdown",
   "id": "3a049593",
   "metadata": {},
   "source": [
    "## Import Modules"
   ]
  },
  {
   "cell_type": "code",
   "execution_count": 6,
   "id": "9c8fb9ff",
   "metadata": {},
   "outputs": [],
   "source": [
    "#required modules for CW_Preprocessing code\n",
    "import pandas as pd\n",
    "import numpy as np\n",
    "import os\n",
    "import sqlite3\n",
    "import re"
   ]
  },
  {
   "cell_type": "markdown",
   "id": "9844bdf6",
   "metadata": {},
   "source": [
    "## Functions"
   ]
  },
  {
   "cell_type": "markdown",
   "id": "8a6aabfd",
   "metadata": {},
   "source": [
    "#### DataFrame Preparation"
   ]
  },
  {
   "cell_type": "code",
   "execution_count": 7,
   "id": "fed3638a",
   "metadata": {},
   "outputs": [],
   "source": [
    "class CW_Preprocessing: \n",
    "    'CW_Preprocessing class'\n",
    "    def get_attendance_details_df(self, clm):\n",
    "        '''\n",
    "        extracting details of attendance record from the columnn names\n",
    "        input:\n",
    "            clm:the columnn names, list type \n",
    "        return: \n",
    "            dfSessions: the attendance details, dataframe type\n",
    "        \n",
    "        '''\n",
    "        dfSessions = pd.DataFrame(clm,columns = [\"details\"])\n",
    "        dfSessions =  dfSessions[\"details\"].str.strip(\"\\n\").str.split(\"\\n\",expand = True)\n",
    "        columns = [\"week\", \"date\", \"time\", \"type\", \"room\"]\n",
    "\n",
    "        if dfSessions.shape[1] == 6:\n",
    "            columns.append(\"is_excluded\")\n",
    "        else:\n",
    "            pass\n",
    "\n",
    "        dfSessions.columns=columns\n",
    "        dfSessions[['semester', 'week']] =  dfSessions['week'].str.split('.', expand=True)\n",
    "        dfSessions[\"week\"] = dfSessions['week'].str.replace('W','').astype(int)\n",
    "        dfSessions[[\"start_time\",\"end_time\"]] = dfSessions[\"time\"].str.split(\"-\", expand = True)\n",
    "        dfSessions = dfSessions.drop(columns=\"time\")\n",
    "        dfSessions.index.names = [\"sessions_id\"]\n",
    "\n",
    "        return dfSessions\n",
    "\n",
    "    def get_attendance(self,file_name):\n",
    "        '''\n",
    "         Read all attendance record from csv files\n",
    "         input: \n",
    "             takes in the name of the file\n",
    "         Return two dataframes : \n",
    "             Attendance record and the attendance details of the modules \n",
    "        '''\n",
    "        file = file_name # file name \n",
    "        path = \".\\\\data\\\\\" # Folder Path\n",
    "        df22COA111 = pd.read_csv(path+file,index_col=0)\n",
    "        clm = df22COA111.columns.to_list()\n",
    "        \n",
    "        dfSessionDel = self.get_attendance_details_df(clm)\n",
    "        df22COA111.columns = np.arange(len(df22COA111.columns))\n",
    "\n",
    "        return df22COA111,dfSessionDel"
   ]
  },
  {
   "cell_type": "markdown",
   "id": "7513156e",
   "metadata": {},
   "source": [
    "#### Data Cleaning"
   ]
  },
  {
   "cell_type": "code",
   "execution_count": 8,
   "id": "77b77b6e",
   "metadata": {
    "scrolled": true
   },
   "outputs": [],
   "source": [
    "def clean_df(dfData):\n",
    "    '''\n",
    "    Copy and clean the module attendance dataframes\n",
    "    input:\n",
    "        dfData: the module attendance dataframe\n",
    "    output:\n",
    "        dfClean: returns a cleaned copy of the dataframe\n",
    "    '''\n",
    "    dfClean = dfData.copy()\n",
    "    dfClean.columns = np.arange(len(dfClean.columns))\n",
    "                     \n",
    "    dfClean.dropna(axis=0, how='all', inplace=True)\n",
    "    dfClean.dropna(axis=1, how='all', inplace=True)\n",
    "    \n",
    "    dfClean = dfClean.replace('Ex', np.nan)\n",
    "    mapping = {'GPS': True, 'X':False}\n",
    "    dfClean = dfClean.replace(mapping)\n",
    "    \n",
    "    dfClean.index.names = ['student_id']\n",
    "    \n",
    "    return dfClean"
   ]
  },
  {
   "cell_type": "markdown",
   "id": "01b0fb2d",
   "metadata": {},
   "source": [
    "#### Database Operation"
   ]
  },
  {
   "cell_type": "code",
   "execution_count": 9,
   "id": "9c2a72e6",
   "metadata": {},
   "outputs": [],
   "source": [
    "def write_to_db(dfData,TableName):\n",
    "    '''\n",
    "    write the dataframe to the DB\n",
    "    input:\n",
    "        dfData: dataframe\n",
    "        TableName: dataframe name, string type\n",
    "    '''\n",
    "    conn = sqlite3.connect('CWDatabase.db')\n",
    "    dfData.to_sql(TableName,if_exists='replace',\n",
    "                  index=True,\n",
    "                  con=conn) \n",
    "    conn.close()"
   ]
  },
  {
   "cell_type": "markdown",
   "id": "b6ab5e4c",
   "metadata": {},
   "source": [
    "## Main Code"
   ]
  },
  {
   "cell_type": "code",
   "execution_count": 10,
   "id": "7d3b10be",
   "metadata": {},
   "outputs": [],
   "source": [
    "def main():\n",
    "    '''\n",
    "    main function of the preprocessing code \n",
    "    ''' \n",
    "    file_list = os.listdir(\".\\\\data\\\\\") # puts the files from the folder into a list\n",
    "    mask = \"([A-Za-z]+\\d+)\" # match sequence\n",
    "    \n",
    "    for file in file_list: \n",
    "        attendance_object = CW_Preprocessing() \n",
    "        df22COA111, dfSessions=attendance_object.get_attendance(file) # read attendance from the CSV file\n",
    "        dfClean = clean_df(df22COA111) # clean dataframe \n",
    "        dfCleanT = dfClean.transpose()# columns become the rows ()\n",
    "        dfCleanT.index.names = [\"sessions_id\"] # index becomes sessions_id \n",
    "\n",
    "        # writing data into the DB\n",
    "        match_obj = re.search(mask,file) # search for sequence in filename to generate a match object \n",
    "        module_code = match_obj.group()\n",
    "        write_to_db(dfCleanT,\n",
    "                module_code)\n",
    "        write_to_db(dfSessions,\n",
    "                module_code+\"_Sessions\")\n",
    "\n",
    "#calling main function  \n",
    "main()"
   ]
  }
 ],
 "metadata": {
  "kernelspec": {
   "display_name": "Python 3 (ipykernel)",
   "language": "python",
   "name": "python3"
  },
  "language_info": {
   "codemirror_mode": {
    "name": "ipython",
    "version": 3
   },
   "file_extension": ".py",
   "mimetype": "text/x-python",
   "name": "python",
   "nbconvert_exporter": "python",
   "pygments_lexer": "ipython3",
   "version": "3.10.9"
  }
 },
 "nbformat": 4,
 "nbformat_minor": 5
}
