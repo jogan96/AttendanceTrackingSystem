{
 "cells": [
  {
   "cell_type": "markdown",
   "id": "e7c162cc",
   "metadata": {},
   "source": [
    "# GUI Menu"
   ]
  },
  {
   "cell_type": "markdown",
   "id": "21e606ad",
   "metadata": {},
   "source": [
    "Creating interactive widget events using IPython widgets to test the functionalities of each program written for the  attendance tracking system."
   ]
  },
  {
   "cell_type": "markdown",
   "id": "b0133462",
   "metadata": {},
   "source": [
    "## Imports"
   ]
  },
  {
   "cell_type": "code",
   "execution_count": 7,
   "id": "33c6b932",
   "metadata": {
    "scrolled": false
   },
   "outputs": [
    {
     "name": "stdout",
     "output_type": "stream",
     "text": [
      "Requirement already satisfied: ipynb in c:\\users\\rolli\\python\\lib\\site-packages (0.5.1)\n"
     ]
    }
   ],
   "source": [
    "!pip install ipynb "
   ]
  },
  {
   "cell_type": "code",
   "execution_count": 8,
   "id": "fe3fb6ee",
   "metadata": {},
   "outputs": [],
   "source": [
    "#import packages\n",
    "import pandas as pd\n",
    "import ipynb\n",
    "%matplotlib inline\n",
    "import ipywidgets as widgets\n",
    "from IPython.display import display\n",
    "from ipywidgets import interact, widgets"
   ]
  },
  {
   "cell_type": "code",
   "execution_count": 9,
   "id": "a26adf8c",
   "metadata": {},
   "outputs": [],
   "source": [
    "#import user defined module functions\n",
    "from ipynb.fs.defs.CW_Preprocessing import *\n",
    "from ipynb.fs.defs.Student_Att import *\n",
    "from ipynb.fs.defs.Module_Att import *\n",
    "from ipynb.fs.defs.Poor_Att import *"
   ]
  },
  {
   "cell_type": "markdown",
   "id": "e9d6b03b",
   "metadata": {},
   "source": [
    "## Functions"
   ]
  },
  {
   "cell_type": "code",
   "execution_count": 10,
   "id": "335f8818",
   "metadata": {
    "scrolled": true
   },
   "outputs": [],
   "source": [
    "# CW_Preprocessing        \n",
    "def clicked_store_db(b):   \n",
    "    with output:       \n",
    "        main()\n",
    "        print(\"All done\")\n",
    "\n",
    "# Student Attendance\n",
    "def clicked_display_student_attendance(b):   # register by defining a function\n",
    "    with output:\n",
    "        sid = txtDisplay.value\n",
    "        print(\"The attendance record of Student ID %s\"%(sid))\n",
    "        styledOutput=student_att(sid)\n",
    "        display(styledOutput)\n",
    "\n",
    "# Module Attendance\n",
    "def clicked_display_module_attendance(b):\n",
    "    with output:\n",
    "        output.clear_output()\n",
    "        module=btnShow.value \n",
    "        week1 = slctShow1.value\n",
    "        week2 = slctShow2.value\n",
    "        sessions = module+\"_Sessions\"\n",
    "        \n",
    "        if module == 'COA111':\n",
    "            display(slctShow1)# 5 widgets ('1','2','3','4','5')\n",
    "            styledOutput=module_attendance(sessions, module, week1)\n",
    "            print(\"Attendance for Module %s Week %s:\"%(module,week1))\n",
    "            display(styledOutput)\n",
    "        if module =='COA122':\n",
    "            display(slctShow2)# 6 widgets ('1','2','3','4','5','6')\n",
    "            styledOutput=module_attendance(sessions, module, week2)\n",
    "            print(\"Attendance for Module %s Week %s:\"%(module,week2))\n",
    "            display(styledOutput)\n",
    "\n",
    "# Poor Attendance\n",
    "def clicked_display_poor_student_attendance(b):   # register by defining a function\n",
    "    with output:\n",
    "        styledOutput=highlighted_poor_students()\n",
    "        display(styledOutput)\n",
    "\n",
    "        \n",
    "def clicked_plot_poor_attendance(b):\n",
    "    with output:\n",
    "        modules = ['COA111', 'COA122']\n",
    "        attendance_df_list = get_att_df_list(modules)\n",
    "        df_poor_students=poor_students()[0]\n",
    "        fig, ax = plt.subplots(1, 1, figsize=(8, 5))\n",
    "\n",
    "        for i, df in enumerate(attendance_df_list):\n",
    "            df = df[df['student_id'].isin(df_poor_students['student_id'])]\n",
    "            y = df.iloc[:,1:-1].mean().tolist()\n",
    "            x = range(1, len(y) + 1)\n",
    "            ax.plot(x, y, label=modules[i])\n",
    "        df_poor_students = df_poor_students.iloc[7:14]\n",
    "        for s, df_s in df_poor_students.groupby('student_id'):\n",
    "            y = df_s.iloc[:, 1:-1].values[0]\n",
    "            x = range(1, len(y) + 1)\n",
    "            ax.scatter(x, y, label=s)\n",
    "\n",
    "        ax.set_xlabel('week')\n",
    "        ax.set_ylabel('attendance')\n",
    "        ax.legend(loc='lower left')\n",
    "    \n",
    "        plt.show(fig, ax)\n",
    "\n",
    "# Clear output\n",
    "def clicked_clear_output(b):\n",
    "    output.clear_output() \n",
    "\n"
   ]
  },
  {
   "cell_type": "markdown",
   "id": "520400cb",
   "metadata": {},
   "source": [
    "## Menu Code"
   ]
  },
  {
   "cell_type": "code",
   "execution_count": 11,
   "id": "a53866d1",
   "metadata": {
    "scrolled": true
   },
   "outputs": [],
   "source": [
    "#Create components \n",
    "btnMain = widgets.Button(description='Write to Db') # create a button event\n",
    "btnClear = widgets.Button(description='Clear',button_style='warning')\n",
    "\n",
    "#Student Attendance\n",
    "txtDisplay = widgets.Text(description='Student ID:',placeholder='Enter Student ID') # create a text event\n",
    "output = widgets.Output() # create output widget, a container to hold  other widgets\n",
    "\n",
    "#Module Attendance\n",
    "btnShow = widgets.Text(description='Module:', placeholder='Enter Module Name')#, button_style='success') # create a button event\n",
    "output = widgets.Output() # create output widget, a container to hold  other widgets\n",
    "\n",
    "slctShow1 = widgets.Select(options=['1','2','3','4','5']) # create a select event\n",
    "slctShow2 = widgets.Select(options=['1','2','3','4','5','6']) # create a select event\n",
    "\n",
    "#after selecting nos, pick the value in that selection\n",
    "btnShow.on_submit(clicked_display_module_attendance) # creating an interaction\n",
    "slctShow1.observe(clicked_display_module_attendance) # creating an interaction\n",
    "slctShow2.observe(clicked_display_module_attendance) # creating an interaction\n",
    "\n",
    "show=widgets.VBox([btnShow])\n",
    "\n",
    "\n",
    "#Poor \n",
    "btnPoorAtt = widgets.Button(description='Show Poor Student Attendance:') # create a button event\n",
    "output = widgets.Output() # create output widget, a container to hold  other buttons\n",
    "btnPoorAtt.on_click(clicked_display_poor_student_attendance) # creating an interaction\n",
    "\n",
    "btnPoorPlot = widgets.Button(description='Plot Poor Students', button_style=\"primary\")\n",
    "btnPoorPlot.on_click(clicked_plot_poor_attendance)                                  \n",
    "view=widgets.VBox([btnPoorAtt,btnPoorPlot])\n",
    "\n",
    "#Interaction\n",
    "btnMain.on_click(clicked_store_db)\n",
    "txtDisplay.on_submit(clicked_display_student_attendance) # creating an interaction\n",
    "btnClear.on_click(clicked_clear_output)  # creating an interaction\n",
    "                              \n",
    "#Layout\n",
    "b=widgets.HBox([btnMain, txtDisplay,show,view, btnClear])\n",
    "allw=widgets.VBox([b,output])"
   ]
  },
  {
   "cell_type": "code",
   "execution_count": 12,
   "id": "33a7b850",
   "metadata": {
    "scrolled": false
   },
   "outputs": [
    {
     "data": {
      "application/vnd.jupyter.widget-view+json": {
       "model_id": "b2b0e5c0102f434ab6c34d604e6033b7",
       "version_major": 2,
       "version_minor": 0
      },
      "text/plain": [
       "VBox(children=(HBox(children=(Button(description='Write to Db', style=ButtonStyle()), Text(value='', descripti…"
      ]
     },
     "metadata": {},
     "output_type": "display_data"
    }
   ],
   "source": [
    "display(allw)"
   ]
  }
 ],
 "metadata": {
  "kernelspec": {
   "display_name": "Python 3 (ipykernel)",
   "language": "python",
   "name": "python3"
  },
  "language_info": {
   "codemirror_mode": {
    "name": "ipython",
    "version": 3
   },
   "file_extension": ".py",
   "mimetype": "text/x-python",
   "name": "python",
   "nbconvert_exporter": "python",
   "pygments_lexer": "ipython3",
   "version": "3.10.9"
  }
 },
 "nbformat": 4,
 "nbformat_minor": 5
}
