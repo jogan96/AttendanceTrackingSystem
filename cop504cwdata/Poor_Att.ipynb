{
 "cells": [
  {
   "cell_type": "markdown",
   "id": "bc7ba004",
   "metadata": {},
   "source": [
    "# Poor Attendance"
   ]
  },
  {
   "cell_type": "markdown",
   "id": "d2927928",
   "metadata": {},
   "source": [
    "This program shows the number of students whose cummulative attendance percentage average is less than the average of all modules.The user or tutor can also view the weeks students' attendance were high when compared to the cummulative average of all modules in the department for this semester. Concurrently, a plot showing the averages of all module attendance per week with :\n",
    "- reads module attendance and attendance details tables from the database\n",
    "- merges the module attendance and attendance details into a dataframe\n",
    "- calculates the weekly attendance percentage of each student for all modules\n",
    "- formats the poor students dataframe based on a weeks students percentage attendance was above average\n",
    "- plot a line and scatter plot"
   ]
  },
  {
   "cell_type": "markdown",
   "id": "d94760be",
   "metadata": {},
   "source": [
    "## Imports"
   ]
  },
  {
   "cell_type": "code",
   "execution_count": 11,
   "id": "42054a1a",
   "metadata": {},
   "outputs": [],
   "source": [
    "import pandas as pd\n",
    "import numpy as np\n",
    "import matplotlib.pyplot as plt\n",
    "import glob\n",
    "import sqlite3"
   ]
  },
  {
   "cell_type": "markdown",
   "id": "df2d8362",
   "metadata": {},
   "source": [
    "## Functions"
   ]
  },
  {
   "cell_type": "markdown",
   "id": "718092c9",
   "metadata": {},
   "source": [
    "### Getting Information from Database"
   ]
  },
  {
   "cell_type": "code",
   "execution_count": 12,
   "id": "b364b3f9",
   "metadata": {},
   "outputs": [],
   "source": [
    "def get_student_module_table(Mod):\n",
    "    '''\n",
    "    read database\n",
    "    input:\n",
    "        Mod: table name is a a string type\n",
    "    returning student modules attendance\n",
    "    \n",
    "    '''\n",
    "    conn = sqlite3.connect('C:\\\\Users\\\\rolli\\\\CW\\\\cop504cwdata\\\\CWDatabase.db')\n",
    "    dfMod=pd.read_sql('''select * from %s\n",
    "                            ''' %(Mod),con=conn).set_index('sessions_id') \n",
    "    dfMod.index = dfMod.index.astype(\"int\")\n",
    "    \n",
    "    conn.close()\n",
    "    return dfMod\n",
    "\n",
    "def get_weeks_from_sessions(Sess):\n",
    "    '''\n",
    "    read database \n",
    "    input:\n",
    "        Sess: is module attendance details table name \n",
    "    returning only weeks column of module attendance details table\n",
    "    \n",
    "    '''\n",
    "    conn = sqlite3.connect('C:\\\\Users\\\\rolli\\\\CW\\\\cop504cwdata\\\\CWDatabase.db')\n",
    "    dfSess=pd.read_sql('''select week from %s \n",
    "                            ''' %(Sess),con=conn)\n",
    "    conn.close()\n",
    "    \n",
    "    return dfSess\n"
   ]
  },
  {
   "cell_type": "markdown",
   "id": "87699d94",
   "metadata": {},
   "source": [
    "### Calculating and Merging Dataframes"
   ]
  },
  {
   "cell_type": "code",
   "execution_count": 13,
   "id": "00de006f",
   "metadata": {},
   "outputs": [],
   "source": [
    "def get_weekly_mod_att(dfMod, dfSess):\n",
    "    '''\n",
    "    concatenating selected module attendance and details dataframes\n",
    "    calculating students weekly attendance percentage per module\n",
    "    output:\n",
    "        dfMerge: a dataframe of students weekly attendance attendance per module\n",
    "    '''\n",
    "    dfModMer=pd.concat([dfMod, dfSess], axis=1)\n",
    "    dfMerge1=dfModMer.groupby('week').count()\n",
    "    dfMerge2=dfModMer.groupby('week').sum()\n",
    "    dfMerge = dfMerge2*100.0/dfMerge1\n",
    "    dfMerge = dfMerge.transpose()\n",
    "    dfMerge.index.names=[\"student_id\"]\n",
    "    dfMerge.columns=[f'Week{int(i + 1)}%' for i in range(dfMerge.shape[1])]\n",
    "    dfMerge=dfMerge.reset_index()\n",
    "    dfMerge['Average%'] = dfMerge.iloc[:, 1:].mean(axis=1)\n",
    "    dfMerge=dfMerge.sort_values(\"Average%\")\n",
    "    dfMerge=dfMerge.round(0)\n",
    "    \n",
    "    return dfMerge\n",
    "\n",
    "def get_cummulative_average(df_list):\n",
    "    '''\n",
    "    concatenating modules\n",
    "    calculating the cumulative averages of all modules in the semester\n",
    "    input:\n",
    "        dflist: contains dataframe of all student attendance per module, list data type\n",
    "    ouput:\n",
    "        df: dataframe of students attendance average per semester\n",
    "    '''\n",
    "    df = pd.concat(df_list, ignore_index=True)\n",
    "    df = df.groupby(['student_id'])[[c for c in df.columns if 'Week' in c]].mean()\n",
    "    df['Average%'] = df.mean(axis=1)\n",
    "    df = df.reset_index()\n",
    "    df = df.sort_values(by=\"Average%\")\n",
    "    \n",
    "    return df\n"
   ]
  },
  {
   "cell_type": "markdown",
   "id": "949fdfc9",
   "metadata": {},
   "source": [
    "### Formating Tables"
   ]
  },
  {
   "cell_type": "code",
   "execution_count": 14,
   "id": "df71a937",
   "metadata": {},
   "outputs": [],
   "source": [
    "def color_code(value, avg):\n",
    "    \"\"\"\n",
    "    Setting background Colors \n",
    "    of table cells \n",
    "    value is a cell value. \n",
    "    \"\"\"\n",
    "    \n",
    "    if value > avg:\n",
    "        styler = 'background-color: green'\n",
    "    else:\n",
    "        styler = None\n",
    "    \n",
    "    return styler\n",
    "\n",
    "def format_poor_output(dfData, avg):\n",
    "    \"\"\"\n",
    "    applying formatting function to the dataframe.\n",
    "    \"\"\"\n",
    "    subset = [c for c in dfData if 'Week' in c]\n",
    "    styledOutput=dfData.style.applymap(color_code, subset=subset, avg=avg)\\\n",
    "                              .format(precision=0)\n",
    "    return styledOutput\n"
   ]
  },
  {
   "cell_type": "markdown",
   "id": "bb9d2455",
   "metadata": {},
   "source": [
    "### Plotting Dataframes"
   ]
  },
  {
   "cell_type": "code",
   "execution_count": 15,
   "id": "8d00115b",
   "metadata": {},
   "outputs": [],
   "source": [
    "def plot_attendance(attendance_df_list, modules, df_poor_students, start,end):\n",
    "    '''\n",
    "    returns a line and scatter plot of students with poor attenadance average\n",
    "    input:\n",
    "        attendance_df_list: student average attendance for each module, list type\n",
    "        module: module attendance dataframes in a list, list type\n",
    "        df_poor_students: poor students average dataframe\n",
    "        start: indicates the starts of the range of students to plot, integer type\n",
    "        end: indicates the end of the range of students to plot, integer type\n",
    "    '''\n",
    "    fig, ax = plt.subplots(1, 1, figsize=(8, 5))\n",
    "\n",
    "    for i, df in enumerate(attendance_df_list):\n",
    "        df = df[df['student_id'].isin(df_poor_students['student_id'])]\n",
    "        y = df.iloc[:,1:-1].mean().tolist()\n",
    "        x = range(1, len(y) + 1)\n",
    "        ax.plot(x, y, label=modules[i])\n",
    "    df_poor_students = df_poor_students.iloc[start:end]\n",
    "    for s, df_s in df_poor_students.groupby('student_id'):\n",
    "        y = df_s.iloc[:, 1:-1].values[0]\n",
    "        x = range(1, len(y) + 1)\n",
    "        ax.scatter(x, y, label=s)\n",
    "\n",
    "    ax.set_xlabel('week')\n",
    "    ax.set_ylabel('attendance')\n",
    "    ax.legend(loc='lower left')\n",
    "    \n",
    "    return fig, ax"
   ]
  },
  {
   "cell_type": "markdown",
   "id": "32ebe1aa",
   "metadata": {},
   "source": [
    "### Extracting Information"
   ]
  },
  {
   "cell_type": "code",
   "execution_count": 16,
   "id": "cc56479e",
   "metadata": {},
   "outputs": [],
   "source": [
    "def get_att_df_list(modules):\n",
    "    '''\n",
    "    returns a list containing concantenated module attendance and details dataframe\n",
    "    input:modules is a list of module attendance dataframes\n",
    "    '''\n",
    "    attendance_df_list = []\n",
    "    \n",
    "    for m in modules:\n",
    "        df_student_module = get_student_module_table(m) # get modules from database\n",
    "        df_week = get_weeks_from_sessions(f'{m}_Sessions')  # get week column from session metadata table\n",
    "        df_attendance = get_weekly_mod_att(df_student_module, df_week) # join week from sessions to module dataframe\n",
    "        attendance_df_list.append(df_attendance)\n",
    "        \n",
    "    return attendance_df_list"
   ]
  },
  {
   "cell_type": "markdown",
   "id": "209a85ef",
   "metadata": {},
   "source": [
    "## Main Code"
   ]
  },
  {
   "cell_type": "code",
   "execution_count": 17,
   "id": "952ef58e",
   "metadata": {
    "scrolled": false
   },
   "outputs": [],
   "source": [
    "def poor_students():\n",
    "    '''\n",
    "    returns a dataframe of students with poor attendance \n",
    "    '''\n",
    "    modules = ['COA111', 'COA122']\n",
    "    attendance_df_list = get_att_df_list(modules)\n",
    "    \n",
    "    # concatenate modules and calculate cummulative module attendance per student\n",
    "    df_cummulative = get_cummulative_average(attendance_df_list)\n",
    "\n",
    "    # include only students with attendance average less than dept attendance average \n",
    "    avg = df_cummulative['Average%'].mean()\n",
    "    print(f'Average of {len(modules)} modules:', avg) # calculate average of all modules\n",
    "    df_poor_students = df_cummulative[df_cummulative['Average%'] < avg]\n",
    "\n",
    "    \n",
    "    # display(format_output(df_poor_students, avg))\n",
    "    return (df_poor_students,avg)\n"
   ]
  },
  {
   "cell_type": "markdown",
   "id": "af17104a",
   "metadata": {},
   "source": [
    "## Test"
   ]
  },
  {
   "cell_type": "code",
   "execution_count": 18,
   "id": "305998f9",
   "metadata": {},
   "outputs": [],
   "source": [
    "# highlight students that have weekly attendace higher than dept average\n",
    "def highlighted_poor_students():\n",
    "    '''\n",
    "    highlights each students weekly module average higher than the department/semester average\n",
    "    returns dataframe\n",
    "    '''\n",
    "    df_poor=poor_students()\n",
    "    highlight_poor_students=format_poor_output(df_poor[0],df_poor[1]) \n",
    "    return highlight_poor_students"
   ]
  },
  {
   "cell_type": "code",
   "execution_count": 19,
   "id": "856cfaab",
   "metadata": {
    "scrolled": true
   },
   "outputs": [],
   "source": [
    "# plot attendance\n",
    "def plot_poor_student_attendance(start,end):\n",
    "    '''\n",
    "    returns a plot of students with poor attendance average\n",
    "    input:\n",
    "        start, end: select range of students to plot, int type\n",
    "    '''\n",
    "    modules=['COA111','COA122']\n",
    "    fig, ax = plot_attendance(get_att_df_list(modules), modules, poor_students()[0],7,14)\n",
    "    \n",
    "    return fig,ax"
   ]
  },
  {
   "cell_type": "code",
   "execution_count": 20,
   "id": "8f4dab94",
   "metadata": {},
   "outputs": [
    {
     "name": "stdout",
     "output_type": "stream",
     "text": [
      "Average of 2 modules: 72.04769681742043\n"
     ]
    },
    {
     "data": {
      "text/plain": [
       "(<Figure size 800x500 with 1 Axes>, <Axes: xlabel='week', ylabel='attendance'>)"
      ]
     },
     "execution_count": 20,
     "metadata": {},
     "output_type": "execute_result"
    },
    {
     "data": {
      "image/png": "[encoded data removed]",
      "text/plain": [
       "<Figure size 800x500 with 1 Axes>"
      ]
     },
     "metadata": {},
     "output_type": "display_data"
    }
   ],
   "source": [
    "plot_7_10=plot_poor_student_attendance(7,10) \n",
    "plot_7_10"
   ]
  }
 ],
 "metadata": {
  "kernelspec": {
   "display_name": "Python 3 (ipykernel)",
   "language": "python",
   "name": "python3"
  },
  "language_info": {
   "codemirror_mode": {
    "name": "ipython",
    "version": 3
   },
   "file_extension": ".py",
   "mimetype": "text/x-python",
   "name": "python",
   "nbconvert_exporter": "python",
   "pygments_lexer": "ipython3",
   "version": "3.10.9"
  }
 },
 "nbformat": 4,
 "nbformat_minor": 5
}
